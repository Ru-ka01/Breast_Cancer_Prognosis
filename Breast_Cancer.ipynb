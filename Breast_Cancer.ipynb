{
 "cells": [
  {
   "cell_type": "code",
   "execution_count": null,
   "metadata": {},
   "outputs": [],
   "source": [
    "import pandas as pd \n",
    "\n",
    "# To load Cancer's dataset directly from the web-url run this\n",
    "url = 'https://archive.ics.uci.edu/ml/machine-learning-databases/breast-cancer-wisconsin/wpbc.data'\n",
    "column_names = [\n",
    "    'ID', 'Outcome', 'Time', 'radius_mean', 'texture_mean', 'perimeter_mean', \n",
    "    'area_mean', 'smoothness_mean', 'compactness_mean', 'concavity_mean', \n",
    "    'concave_points_mean', 'symmetry_mean', 'fractal_dimension_mean', \n",
    "    'radius_se', 'texture_se', 'perimeter_se', 'area_se', 'smoothness_se', \n",
    "    'compactness_se', 'concavity_se', 'concave_points_se', 'symmetry_se', \n",
    "    'fractal_dimension_se', 'radius_worst', 'texture_worst', 'perimeter_worst', \n",
    "    'area_worst', 'smoothness_worst', 'compactness_worst', 'concavity_worst', \n",
    "    'concave_points_worst', 'symmetry_worst', 'fractal_dimension_worst', \n",
    "    'Tumor_Size', 'Lymph_Node_Status'\n",
    "]\n",
    "# Load the dataset\n",
    "data = pd.read_csv(url, header=None, names=column_names)\n",
    "print(data.head(10))\n",
    "\n"
   ]
  }
 ],
 "metadata": {
  "language_info": {
   "name": "python"
  }
 },
 "nbformat": 4,
 "nbformat_minor": 2
}
